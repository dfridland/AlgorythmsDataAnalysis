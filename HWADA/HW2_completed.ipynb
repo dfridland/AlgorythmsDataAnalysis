{
 "cells": [
  {
   "cell_type": "code",
   "execution_count": 26,
   "id": "4cac2d21-00ab-4bbb-9c24-9fb6ffca9ce3",
   "metadata": {},
   "outputs": [],
   "source": [
    "import numpy as np\n",
    "import matplotlib.pyplot as plt\n",
    "plt.rcParams.update({'font.size': 14,\n",
    "                     'xtick.labelsize': 14})"
   ]
  },
  {
   "cell_type": "code",
   "execution_count": 27,
   "id": "6249c9c5-569a-4cb6-b8e9-b03ec6ac0cca",
   "metadata": {},
   "outputs": [],
   "source": [
    "def standard_scale(X):\n",
    "    mean = X.mean(axis=0)\n",
    "    std = X.std(axis=0)\n",
    "    return (X - mean) / std"
   ]
  },
  {
   "cell_type": "code",
   "execution_count": null,
   "id": "a56a6f40-5c1c-4782-9a30-830f84bbdaa1",
   "metadata": {},
   "outputs": [],
   "source": []
  },
  {
   "cell_type": "code",
   "execution_count": 53,
   "id": "9863b1d1-997b-4a1f-9fcc-e98d5a289549",
   "metadata": {},
   "outputs": [
    {
     "data": {
      "text/plain": [
       "array([[-1.04834194, -0.66009134],\n",
       "       [-0.61611776, -0.6492181 ],\n",
       "       [-1.08748347,  0.48279052],\n",
       "       ...,\n",
       "       [ 0.26093994, -0.64597382],\n",
       "       [-0.74618483,  0.33134868],\n",
       "       [-0.2872111 ,  0.11534105]])"
      ]
     },
     "metadata": {},
     "output_type": "display_data"
    },
    {
     "data": {
      "text/plain": [
       "array([-125.32313353,  -88.38541744,  -80.82992461, ...,   -6.36902037,\n",
       "        -58.67362515,  -22.43636317])"
      ]
     },
     "metadata": {},
     "output_type": "display_data"
    },
    {
     "data": {
      "text/plain": [
       "array([96.98894865, 52.52522903])"
      ]
     },
     "metadata": {},
     "output_type": "display_data"
    }
   ],
   "source": [
    "from sklearn import datasets\n",
    "\n",
    "X, Y, coef = datasets.make_regression(n_samples=100000, n_features=2, n_informative=2, n_targets=1, \n",
    "                                      noise=5, bias=0, coef=True, random_state=2)\n",
    "display(X, Y, coef)"
   ]
  },
  {
   "cell_type": "code",
   "execution_count": 54,
   "id": "ddeb7271-7fb2-4113-956c-317cc418115b",
   "metadata": {},
   "outputs": [],
   "source": [
    "def calc_mse(Y, Y_pred):\n",
    "    err = np.mean((Y - Y_pred)**2)\n",
    "    return err"
   ]
  },
  {
   "cell_type": "code",
   "execution_count": 55,
   "id": "8e3cc19c-624d-4cca-b2b0-5fb06ba4038e",
   "metadata": {},
   "outputs": [],
   "source": [
    "X = standard_scale(X)"
   ]
  },
  {
   "cell_type": "code",
   "execution_count": 56,
   "id": "99783220-5361-4fe0-ba8d-3e9da21ee1e5",
   "metadata": {},
   "outputs": [],
   "source": [
    "# Gradient descent (GD)\n",
    "def gradient_descent(X, y, iterations, eta=1e-4):\n",
    "    W = np.random.randn(X.shape[1])\n",
    "    n = X.shape[0]\n",
    "    \n",
    "    errors = []\n",
    "    w_list = [W.copy()]\n",
    "    for i in range(0, iterations):\n",
    "        y_pred = np.dot(X, W)\n",
    "        err = calc_mse(y, y_pred)\n",
    "        errors.append(err)\n",
    "        \n",
    "        dQ = 2/n * X.T @ (y_pred - y) # градиент функции ошибки\n",
    "        W -= (eta * dQ)\n",
    "        w_list.append(W.copy())\n",
    "        \n",
    "        if i % (iterations / 10) == 0:\n",
    "            print(f'Iter: {i}, error {err}')\n",
    "        \n",
    "    print(f'Final MSE: {calc_mse(y, np.dot(X, W))}')\n",
    "    return W, errors, w_list"
   ]
  },
  {
   "cell_type": "code",
   "execution_count": 57,
   "id": "da65e03c-c128-4fb2-8015-53b954f1f545",
   "metadata": {},
   "outputs": [],
   "source": [
    "# Stochastic gradient descent (SGD)\n",
    "def stohastic_gradient_descent(X, Y, iterations, eta=1e-4, size=1):\n",
    "    W = np.random.randn(X.shape[1])\n",
    "    n = X.shape[0]\n",
    "    \n",
    "    errors = []\n",
    "    w_list = [W.copy()]\n",
    "    for i in range(0, iterations):\n",
    "        ind = np.random.randint(X.shape[0], size=size)\n",
    "\n",
    "        y_pred = np.dot(X[ind], W)\n",
    "        W = W - eta * 2 / Y[ind].shape[0] * np.dot(X[ind].T, y_pred - Y[ind])\n",
    "\n",
    "        error = calc_mse(Y, np.dot(X, W))\n",
    "        errors.append(error)\n",
    "        w_list.append(W)\n",
    "        \n",
    "        if i % (iterations / 10) == 0:\n",
    "            print(f'Iter: {i}, error {error}')\n",
    "    \n",
    "    print(f'Final MSE: {calc_mse(Y, np.dot(X, W))}')\n",
    "    return W, errors, w_list"
   ]
  },
  {
   "cell_type": "code",
   "execution_count": 58,
   "id": "169b12b7-980b-4d89-bb3a-446d381dfec8",
   "metadata": {},
   "outputs": [
    {
     "name": "stdout",
     "output_type": "stream",
     "text": [
      "Iter: 0, error 12228.614867567594\n",
      "Iter: 500, error 1653.0328275241243\n",
      "Iter: 1000, error 242.15655589809154\n",
      "Iter: 1500, error 53.922516364434024\n",
      "Iter: 2000, error 28.807550723583553\n",
      "Iter: 2500, error 25.45640872493103\n",
      "Iter: 3000, error 25.00923165611326\n",
      "Iter: 3500, error 24.94955653366143\n",
      "Iter: 4000, error 24.941592467251446\n",
      "Iter: 4500, error 24.94052953677454\n",
      "Final MSE: 24.94038766239859\n",
      "CPU times: user 10.9 s, sys: 82.2 ms, total: 11 s\n",
      "Wall time: 5.65 s\n"
     ]
    }
   ],
   "source": [
    "%%time\n",
    "weights_GD, errors_GD, w_list_GD = gradient_descent(X, Y, iterations=5000, eta=1e-3)"
   ]
  },
  {
   "cell_type": "code",
   "execution_count": 59,
   "id": "2a6c5dfc-46dd-436f-a00b-442b9ccbddd3",
   "metadata": {},
   "outputs": [
    {
     "name": "stdout",
     "output_type": "stream",
     "text": [
      "Iter: 0, error 11981.11711495881\n",
      "Iter: 500, error 1657.7548820254865\n",
      "Iter: 1000, error 275.0565723442098\n",
      "Iter: 1500, error 60.73176428272022\n",
      "Iter: 2000, error 30.102018419738897\n",
      "Iter: 2500, error 25.60471716092755\n",
      "Iter: 3000, error 25.148094322403207\n",
      "Iter: 3500, error 25.115614563319927\n",
      "Iter: 4000, error 25.009232127245316\n",
      "Iter: 4500, error 25.042072250629584\n",
      "Final MSE: 24.95738943940413\n",
      "CPU times: user 2.87 s, sys: 25.5 ms, total: 2.9 s\n",
      "Wall time: 1.47 s\n"
     ]
    }
   ],
   "source": [
    "%%time\n",
    "weights_SGD, errors_SGD, w_list_SGD = stohastic_gradient_descent(X, Y, iterations=5000, eta=1e-3, size=1)"
   ]
  },
  {
   "cell_type": "code",
   "execution_count": 65,
   "id": "8ffc88cb-88c7-411f-855b-30ad9b8db174",
   "metadata": {},
   "outputs": [
    {
     "data": {
      "image/png": "[encoded data removed]",
      "text/plain": [
       "<Figure size 432x288 with 1 Axes>"
      ]
     },
     "metadata": {
      "needs_background": "light"
     },
     "output_type": "display_data"
    }
   ],
   "source": [
    "# Changing of MSE with GD and SGD \n",
    "plt.plot(range(len(errors_GD)), errors_GD, color='b', label='GD')\n",
    "plt.plot(range(len(errors_SGD)), errors_SGD, color='g', label='SGD')\n",
    "\n",
    "plt.title('MSE')\n",
    "plt.xlabel('number of iterations')\n",
    "plt.ylabel('MSE')\n",
    "plt.xlim(0, 3000)\n",
    "plt.legend();"
   ]
  },
  {
   "cell_type": "code",
   "execution_count": 70,
   "id": "9432b798-3506-4279-a45e-c1c6a7b8388f",
   "metadata": {},
   "outputs": [],
   "source": [
    "def gradient_descent_reg_l1(X, Y, iterations, eta=1e-4, reg=1e-8):\n",
    "    W = np.random.randn(X.shape[1])\n",
    "    n = X.shape[0]\n",
    "    \n",
    "    for i in range(0, iterations):\n",
    "        Y_pred = np.dot(X, W)\n",
    "        err = calc_mse(Y, Y_pred)\n",
    "        \n",
    "        dQ = 2/n * X.T @ (Y_pred - Y) # градиент функции ошибки\n",
    "        dReg = reg * np.sign(W) # градиент регуляризации\n",
    "        \n",
    "        W -= eta * dQ + dReg\n",
    "        \n",
    "        if i % (iterations / 10) == 0:\n",
    "            print(f'Iter: {i}, weights: {W}, error {err}')\n",
    "    \n",
    "    print(f'Final MSE: {calc_mse(Y, np.dot(X, W))}')\n",
    "    return W"
   ]
  },
  {
   "cell_type": "code",
   "execution_count": 71,
   "id": "b65343bc-d7c8-41be-94f0-f4a60cee8903",
   "metadata": {},
   "outputs": [
    {
     "name": "stdout",
     "output_type": "stream",
     "text": [
      "Iter: 0, weights: [ 2.8075197  -0.25214757], error 12205.663211167757\n",
      "Iter: 500, weights: [96.86579519 52.42411802], error 24.940490671133837\n",
      "Iter: 1000, weights: [96.86950537 52.42600118], error 24.940415451733024\n",
      "Iter: 1500, weights: [96.86950552 52.42600125], error 24.940415449557044\n",
      "Iter: 2000, weights: [96.86950552 52.42600125], error 24.940415449556966\n",
      "Iter: 2500, weights: [96.86950552 52.42600125], error 24.940415449556966\n",
      "Iter: 3000, weights: [96.86950552 52.42600125], error 24.940415449556966\n",
      "Iter: 3500, weights: [96.86950552 52.42600125], error 24.940415449556966\n",
      "Iter: 4000, weights: [96.86950552 52.42600125], error 24.940415449556966\n",
      "Iter: 4500, weights: [96.86950552 52.42600125], error 24.940415449556966\n",
      "Final MSE: 24.940415449556966\n"
     ]
    },
    {
     "data": {
      "text/plain": [
       "array([96.86950552, 52.42600125])"
      ]
     },
     "execution_count": 71,
     "metadata": {},
     "output_type": "execute_result"
    }
   ],
   "source": [
    "gradient_descent_reg_l1(X, Y, iterations=5000, eta=1e-2, reg=1e-4)"
   ]
  },
  {
   "cell_type": "code",
   "execution_count": 75,
   "id": "21ab11db-8af0-4da8-a2dc-afb3314954ed",
   "metadata": {},
   "outputs": [
    {
     "name": "stdout",
     "output_type": "stream",
     "text": [
      "Iter: 0, weights: [ 0.92251105 -0.27436816], error 12131.037295912744\n",
      "Iter: 500, weights: [61.74981763 33.31496875], error 1640.2619368147714\n",
      "Iter: 1000, weights: [84.01609193 45.49853094], error 240.48653889216874\n",
      "Iter: 1500, weights: [92.16711923 49.91722853], error 53.70435005467406\n",
      "Iter: 2000, weights: [95.15107987 51.51958818], error 28.779087167409536\n",
      "Iter: 2500, weights: [96.24350054 52.10057994], error 25.45270279495764\n",
      "Iter: 3000, weights: [96.64344798 52.31121113], error 25.00875111095814\n",
      "Iter: 3500, weights: [96.78987872 52.38756244], error 24.949494824761256\n",
      "Iter: 4000, weights: [96.8434927  52.41523503], error 24.94158474807749\n",
      "Iter: 4500, weights: [96.86312361 52.42526319], error 24.940528644854357\n",
      "Final MSE: 24.94038758699992\n",
      "CPU times: user 11 s, sys: 103 ms, total: 11.1 s\n",
      "Wall time: 5.69 s\n"
     ]
    },
    {
     "data": {
      "text/plain": [
       "array([96.87030344, 52.42889252])"
      ]
     },
     "execution_count": 75,
     "metadata": {},
     "output_type": "execute_result"
    }
   ],
   "source": [
    "%%time\n",
    "gradient_descent_reg_l1(X, Y, iterations=5000, eta=1e-3)"
   ]
  },
  {
   "cell_type": "code",
   "execution_count": null,
   "id": "07971d4f-fa86-42bf-90d9-9f307d022714",
   "metadata": {},
   "outputs": [],
   "source": []
  },
  {
   "cell_type": "code",
   "execution_count": 84,
   "id": "94ea498c-9e65-41c8-a77a-0e8a11d7f726",
   "metadata": {},
   "outputs": [],
   "source": [
    "# К признаку стажа добавим новые признаки\n",
    "X = np.array([[1, 1, 1, 1, 1, 1, 1, 1, 1, 1],\n",
    "              [1, 1, 2, 1, 3, 0, 5, 10, 1, 2],  # стаж репетитора\n",
    "              [500, 700, 750, 600, 1450,        # средняя стоимость занятия\n",
    "               800, 1500, 2000, 450, 1000],\n",
    "              [21, 25, 27, 20, 25, 18, 35, 60, 20, 30]]).T  # возраст репетитора\n",
    "               \n",
    "y = [45, 55, 50, 59, 65, 35, 75, 80, 50, 60]    # средний балл ЕГЭ (целевая переменная)"
   ]
  },
  {
   "cell_type": "code",
   "execution_count": 85,
   "id": "b47eeac7-3b61-4d02-86fd-aae2b656d370",
   "metadata": {},
   "outputs": [
    {
     "data": {
      "text/plain": [
       "array([ 5.31431473e+01,  5.13381190e+00,  6.37461212e-03, -5.44708363e-01])"
      ]
     },
     "execution_count": 85,
     "metadata": {},
     "output_type": "execute_result"
    }
   ],
   "source": [
    "# веса по МНК\n",
    "w = np.linalg.inv(X.T @ X) @ X.T @ y\n",
    "w"
   ]
  },
  {
   "cell_type": "code",
   "execution_count": 86,
   "id": "5b7abeff-74d1-46c2-bd7f-d4bc65d37fb1",
   "metadata": {},
   "outputs": [
    {
     "data": {
      "text/plain": [
       "-0.5447083634816536"
      ]
     },
     "execution_count": 86,
     "metadata": {},
     "output_type": "execute_result"
    }
   ],
   "source": [
    "X_1 = [1, 1, 1000, 20]\n",
    "X_2 = [1, 1, 1000, 21]\n",
    "\n",
    "X_2 @ w - X_1 @ w"
   ]
  },
  {
   "cell_type": "code",
   "execution_count": 87,
   "id": "c8edd442-0131-4570-9f28-0eb2f5f6b0f8",
   "metadata": {},
   "outputs": [
    {
     "data": {
      "text/plain": [
       "array([-0.57142857, -0.57142857, -0.21428571, -0.57142857,  0.14285714,\n",
       "       -0.92857143,  0.85714286,  2.64285714, -0.57142857, -0.21428571])"
      ]
     },
     "execution_count": 87,
     "metadata": {},
     "output_type": "execute_result"
    }
   ],
   "source": [
    "X_st = X.copy().astype(np.float64)\n",
    "\n",
    "X_st[:, 1] = (X[:, 1] - X[:, 1].mean()) / X[:, 1].std()\n",
    "X_st[:, 1]"
   ]
  },
  {
   "cell_type": "code",
   "execution_count": 88,
   "id": "a6702634-4b9b-4f4c-8c75-84989e5472f2",
   "metadata": {},
   "outputs": [
    {
     "data": {
      "text/plain": [
       "(3.3306690738754695e-17, 1.0)"
      ]
     },
     "execution_count": 88,
     "metadata": {},
     "output_type": "execute_result"
    }
   ],
   "source": [
    "X_st[:, 1].mean(), X_st[:, 1].std()"
   ]
  },
  {
   "cell_type": "code",
   "execution_count": 89,
   "id": "3f228341-32ca-4150-82fc-6ca5a77aab7e",
   "metadata": {},
   "outputs": [
    {
     "data": {
      "text/plain": [
       "array([  1. ,   2.6, 975. ,  28.1])"
      ]
     },
     "execution_count": 89,
     "metadata": {},
     "output_type": "execute_result"
    }
   ],
   "source": [
    "X.mean(axis=0)"
   ]
  },
  {
   "cell_type": "code",
   "execution_count": 90,
   "id": "d398783f-d1ac-47d4-b8df-6fe6bdbfc767",
   "metadata": {},
   "outputs": [],
   "source": [
    "def standardization(x: np.ndarray) -> np.ndarray:\n",
    "    '''Функция принимает и возвращает одномерный массив'''\n",
    "    s = (x - x.mean(axis=0)) / x.std()\n",
    "    return s"
   ]
  },
  {
   "cell_type": "code",
   "execution_count": 91,
   "id": "44898d0b-208a-46ac-b0b6-bafe2b45cb7b",
   "metadata": {},
   "outputs": [],
   "source": [
    "def calc_mse(y, y_pred):\n",
    "    err = np.mean((y - y_pred)**2)\n",
    "    return err\n",
    "\n"
   ]
  },
  {
   "cell_type": "code",
   "execution_count": 97,
   "id": "f552a9c5-a6cc-4a98-8fed-0eb3cb186042",
   "metadata": {},
   "outputs": [],
   "source": [
    "def eval_model_reg2(X, y, iterations, eta=1e-4, lambda_=1e-8, verbose=False):\n",
    "    np.random.seed(42)\n",
    "    w = np.random.randn(X.shape[1])\n",
    "    n = X.shape[0]\n",
    "    for i in range(1, iterations + 1):\n",
    "        y_pred = np.dot(X, w)\n",
    "        err = calc_mse(y, y_pred)\n",
    "        w -= eta * (1/n * 2 * np.dot(X.T, (y_pred - y)) + 2 * lambda_ * w)\n",
    "        if verbose and i % (iterations / 10) == 0:\n",
    "            print(f'{i}: weights={w}, MSE={err:.3f}')\n",
    "    return w"
   ]
  },
  {
   "cell_type": "code",
   "execution_count": 102,
   "id": "149e3bd6-a9a5-4adc-ad50-4aee6e60fe61",
   "metadata": {},
   "outputs": [],
   "source": [
    "def gradient_descent_reg_l1(X, y, iterations, eta=1e-4, reg=1e-8):\n",
    "    np.random.seed(42)\n",
    "    w = np.random.randn(X.shape[1])\n",
    "    n = X.shape[0]\n",
    "    \n",
    "    for i in range(0, iterations):\n",
    "        y_pred = np.dot(X, w)\n",
    "        err = calc_mse(y, y_pred)\n",
    "        \n",
    "        dQ = 2/n * X.T @ (y_pred - y) # градиент функции ошибки\n",
    "        dReg = reg * np.sign(W) # градиент регуляризации\n",
    "        \n",
    "        w -= eta * dQ + dReg\n",
    "        \n",
    "        if i % (iterations / 10) == 0:\n",
    "            print(f'Iter: {i}, weights: {w}, error {err}')\n",
    "    \n",
    "    print(f'Final MSE: {calc_mse(y, np.dot(X, w))}')\n",
    "    return w"
   ]
  },
  {
   "cell_type": "code",
   "execution_count": 106,
   "id": "9b55bb9d-5c0e-4f09-a3a1-325149c3fc8d",
   "metadata": {},
   "outputs": [
    {
     "name": "stdout",
     "output_type": "stream",
     "text": [
      "100: weights=[nan nan nan nan], MSE=nan\n",
      "200: weights=[nan nan nan nan], MSE=nan\n",
      "300: weights=[nan nan nan nan], MSE=nan\n",
      "400: weights=[nan nan nan nan], MSE=nan\n",
      "500: weights=[nan nan nan nan], MSE=nan\n",
      "600: weights=[nan nan nan nan], MSE=nan\n",
      "700: weights=[nan nan nan nan], MSE=nan\n",
      "800: weights=[nan nan nan nan], MSE=nan\n",
      "900: weights=[nan nan nan nan], MSE=nan\n",
      "1000: weights=[nan nan nan nan], MSE=nan\n"
     ]
    },
    {
     "name": "stderr",
     "output_type": "stream",
     "text": [
      "<ipython-input-91-108e594cb81f>:2: RuntimeWarning: overflow encountered in square\n",
      "  err = np.mean((y - y_pred)**2)\n"
     ]
    }
   ],
   "source": [
    "w = eval_model_reg2(X, y, iterations=1000, eta=1e-3, lambda_=0.001, verbose=True)"
   ]
  },
  {
   "cell_type": "code",
   "execution_count": null,
   "id": "3eb8d3b2-0d46-47fe-a049-b6f55d01efe4",
   "metadata": {},
   "outputs": [],
   "source": []
  }
 ],
 "metadata": {
  "kernelspec": {
   "display_name": "Python 3",
   "language": "python",
   "name": "python3"
  },
  "language_info": {
   "codemirror_mode": {
    "name": "ipython",
    "version": 3
   },
   "file_extension": ".py",
   "mimetype": "text/x-python",
   "name": "python",
   "nbconvert_exporter": "python",
   "pygments_lexer": "ipython3",
   "version": "3.8.8"
  }
 },
 "nbformat": 4,
 "nbformat_minor": 5
}
